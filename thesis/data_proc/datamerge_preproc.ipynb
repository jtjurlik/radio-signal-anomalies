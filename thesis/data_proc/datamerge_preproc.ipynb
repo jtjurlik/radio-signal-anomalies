{
 "cells": [
  {
   "cell_type": "code",
   "execution_count": 1,
   "metadata": {},
   "outputs": [],
   "source": [
    "import numpy as np\n",
    "import pandas as pd\n",
    "import os\n",
    "import json\n",
    "\n",
    "from datetime import datetime\n",
    "\n",
    "with open('../config.json', 'r') as config_file:\n",
    "    config = json.load(config_file)\n",
    "imp_folder = config['raw_path']"
   ]
  },
  {
   "cell_type": "code",
   "execution_count": null,
   "metadata": {},
   "outputs": [
    {
     "name": "stdout",
     "output_type": "stream",
     "text": [
      "dict_keys(['research_data2.csv', 'research_data.csv'])\n"
     ]
    }
   ],
   "source": [
    "# Import the time-series csv files\n",
    "csv_files = [file for file in os.listdir(imp_folder) if file.endswith('.csv')]\n",
    "dataframes = {file: pd.read_csv(os.path.join(imp_folder, file)) for file in csv_files}\n",
    "\n",
    "print(dataframes.keys())"
   ]
  },
  {
   "cell_type": "code",
   "execution_count": 3,
   "metadata": {},
   "outputs": [
    {
     "name": "stdout",
     "output_type": "stream",
     "text": [
      "(31532117, 5)\n"
     ]
    },
    {
     "data": {
      "text/html": [
       "<div>\n",
       "<style scoped>\n",
       "    .dataframe tbody tr th:only-of-type {\n",
       "        vertical-align: middle;\n",
       "    }\n",
       "\n",
       "    .dataframe tbody tr th {\n",
       "        vertical-align: top;\n",
       "    }\n",
       "\n",
       "    .dataframe thead th {\n",
       "        text-align: right;\n",
       "    }\n",
       "</style>\n",
       "<table border=\"1\" class=\"dataframe\">\n",
       "  <thead>\n",
       "    <tr style=\"text-align: right;\">\n",
       "      <th></th>\n",
       "      <th>timestamp</th>\n",
       "      <th>name</th>\n",
       "      <th>MinRSSImain[dBm]</th>\n",
       "      <th>PageSessionTotal</th>\n",
       "      <th>ULvolMByte</th>\n",
       "    </tr>\n",
       "  </thead>\n",
       "  <tbody>\n",
       "    <tr>\n",
       "      <th>0</th>\n",
       "      <td>2023-09-01 00:30:00+02</td>\n",
       "      <td>BtsId=997,CellId=0,CarrierId=0</td>\n",
       "      <td>-109.08</td>\n",
       "      <td>0</td>\n",
       "      <td>0.000000</td>\n",
       "    </tr>\n",
       "    <tr>\n",
       "      <th>1</th>\n",
       "      <td>2023-09-01 00:30:00+02</td>\n",
       "      <td>BtsId=997,CellId=0,CarrierId=0</td>\n",
       "      <td>-109.08</td>\n",
       "      <td>0</td>\n",
       "      <td>0.000000</td>\n",
       "    </tr>\n",
       "    <tr>\n",
       "      <th>2</th>\n",
       "      <td>2023-09-01 00:30:00+02</td>\n",
       "      <td>BtsId=997,CellId=0,CarrierId=1</td>\n",
       "      <td>-109.27</td>\n",
       "      <td>0</td>\n",
       "      <td>0.000907</td>\n",
       "    </tr>\n",
       "    <tr>\n",
       "      <th>3</th>\n",
       "      <td>2023-09-01 00:30:00+02</td>\n",
       "      <td>BtsId=997,CellId=0,CarrierId=1</td>\n",
       "      <td>-109.27</td>\n",
       "      <td>0</td>\n",
       "      <td>0.000907</td>\n",
       "    </tr>\n",
       "    <tr>\n",
       "      <th>4</th>\n",
       "      <td>2023-09-01 00:30:00+02</td>\n",
       "      <td>BtsId=187,CellId=0,CarrierId=0</td>\n",
       "      <td>-104.87</td>\n",
       "      <td>156</td>\n",
       "      <td>1.685871</td>\n",
       "    </tr>\n",
       "    <tr>\n",
       "      <th>5</th>\n",
       "      <td>2023-09-01 00:30:00+02</td>\n",
       "      <td>BtsId=187,CellId=0,CarrierId=0</td>\n",
       "      <td>-104.87</td>\n",
       "      <td>0</td>\n",
       "      <td>1.685871</td>\n",
       "    </tr>\n",
       "    <tr>\n",
       "      <th>6</th>\n",
       "      <td>2023-09-01 00:30:00+02</td>\n",
       "      <td>BtsId=187,CellId=0,CarrierId=1</td>\n",
       "      <td>-104.75</td>\n",
       "      <td>0</td>\n",
       "      <td>1.441159</td>\n",
       "    </tr>\n",
       "    <tr>\n",
       "      <th>7</th>\n",
       "      <td>2023-09-01 00:30:00+02</td>\n",
       "      <td>BtsId=187,CellId=0,CarrierId=1</td>\n",
       "      <td>-104.75</td>\n",
       "      <td>141</td>\n",
       "      <td>1.441159</td>\n",
       "    </tr>\n",
       "    <tr>\n",
       "      <th>8</th>\n",
       "      <td>2023-09-01 00:30:00+02</td>\n",
       "      <td>BtsId=187,CellId=1,CarrierId=0</td>\n",
       "      <td>-101.90</td>\n",
       "      <td>39</td>\n",
       "      <td>0.816284</td>\n",
       "    </tr>\n",
       "    <tr>\n",
       "      <th>9</th>\n",
       "      <td>2023-09-01 00:30:00+02</td>\n",
       "      <td>BtsId=187,CellId=1,CarrierId=0</td>\n",
       "      <td>-101.90</td>\n",
       "      <td>0</td>\n",
       "      <td>0.816284</td>\n",
       "    </tr>\n",
       "  </tbody>\n",
       "</table>\n",
       "</div>"
      ],
      "text/plain": [
       "                timestamp                            name  MinRSSImain[dBm]  \\\n",
       "0  2023-09-01 00:30:00+02  BtsId=997,CellId=0,CarrierId=0           -109.08   \n",
       "1  2023-09-01 00:30:00+02  BtsId=997,CellId=0,CarrierId=0           -109.08   \n",
       "2  2023-09-01 00:30:00+02  BtsId=997,CellId=0,CarrierId=1           -109.27   \n",
       "3  2023-09-01 00:30:00+02  BtsId=997,CellId=0,CarrierId=1           -109.27   \n",
       "4  2023-09-01 00:30:00+02  BtsId=187,CellId=0,CarrierId=0           -104.87   \n",
       "5  2023-09-01 00:30:00+02  BtsId=187,CellId=0,CarrierId=0           -104.87   \n",
       "6  2023-09-01 00:30:00+02  BtsId=187,CellId=0,CarrierId=1           -104.75   \n",
       "7  2023-09-01 00:30:00+02  BtsId=187,CellId=0,CarrierId=1           -104.75   \n",
       "8  2023-09-01 00:30:00+02  BtsId=187,CellId=1,CarrierId=0           -101.90   \n",
       "9  2023-09-01 00:30:00+02  BtsId=187,CellId=1,CarrierId=0           -101.90   \n",
       "\n",
       "   PageSessionTotal  ULvolMByte  \n",
       "0                 0    0.000000  \n",
       "1                 0    0.000000  \n",
       "2                 0    0.000907  \n",
       "3                 0    0.000907  \n",
       "4               156    1.685871  \n",
       "5                 0    1.685871  \n",
       "6                 0    1.441159  \n",
       "7               141    1.441159  \n",
       "8                39    0.816284  \n",
       "9                 0    0.816284  "
      ]
     },
     "execution_count": 3,
     "metadata": {},
     "output_type": "execute_result"
    }
   ],
   "source": [
    "print(dataframes['research_data.csv'].shape)\n",
    "dataframes['research_data.csv'].head(10)"
   ]
  },
  {
   "cell_type": "code",
   "execution_count": 4,
   "metadata": {},
   "outputs": [
    {
     "name": "stdout",
     "output_type": "stream",
     "text": [
      "(15946252, 5)\n"
     ]
    },
    {
     "data": {
      "text/html": [
       "<div>\n",
       "<style scoped>\n",
       "    .dataframe tbody tr th:only-of-type {\n",
       "        vertical-align: middle;\n",
       "    }\n",
       "\n",
       "    .dataframe tbody tr th {\n",
       "        vertical-align: top;\n",
       "    }\n",
       "\n",
       "    .dataframe thead th {\n",
       "        text-align: right;\n",
       "    }\n",
       "</style>\n",
       "<table border=\"1\" class=\"dataframe\">\n",
       "  <thead>\n",
       "    <tr style=\"text-align: right;\">\n",
       "      <th></th>\n",
       "      <th>timestamp</th>\n",
       "      <th>name</th>\n",
       "      <th>AvgSessionSetupDuration[s]</th>\n",
       "      <th>AvgSessionDuration[s]</th>\n",
       "      <th>TotalBlocks</th>\n",
       "    </tr>\n",
       "  </thead>\n",
       "  <tbody>\n",
       "    <tr>\n",
       "      <th>0</th>\n",
       "      <td>2023-09-01 00:30:00+02</td>\n",
       "      <td>BtsId=997,CellId=0,CarrierId=0</td>\n",
       "      <td>0.000000</td>\n",
       "      <td>0.000000</td>\n",
       "      <td>0</td>\n",
       "    </tr>\n",
       "    <tr>\n",
       "      <th>1</th>\n",
       "      <td>2023-09-01 00:30:00+02</td>\n",
       "      <td>BtsId=997,CellId=0,CarrierId=1</td>\n",
       "      <td>6.000000</td>\n",
       "      <td>6.500000</td>\n",
       "      <td>0</td>\n",
       "    </tr>\n",
       "    <tr>\n",
       "      <th>2</th>\n",
       "      <td>2023-09-01 00:30:00+02</td>\n",
       "      <td>BtsId=187,CellId=0,CarrierId=0</td>\n",
       "      <td>108.571429</td>\n",
       "      <td>115.428571</td>\n",
       "      <td>0</td>\n",
       "    </tr>\n",
       "    <tr>\n",
       "      <th>3</th>\n",
       "      <td>2023-09-01 00:30:00+02</td>\n",
       "      <td>BtsId=187,CellId=0,CarrierId=1</td>\n",
       "      <td>50.844828</td>\n",
       "      <td>53.931034</td>\n",
       "      <td>0</td>\n",
       "    </tr>\n",
       "    <tr>\n",
       "      <th>4</th>\n",
       "      <td>2023-09-01 00:30:00+02</td>\n",
       "      <td>BtsId=187,CellId=1,CarrierId=0</td>\n",
       "      <td>208.000000</td>\n",
       "      <td>218.500000</td>\n",
       "      <td>0</td>\n",
       "    </tr>\n",
       "    <tr>\n",
       "      <th>5</th>\n",
       "      <td>2023-09-01 00:30:00+02</td>\n",
       "      <td>BtsId=187,CellId=1,CarrierId=1</td>\n",
       "      <td>411.500000</td>\n",
       "      <td>432.750000</td>\n",
       "      <td>0</td>\n",
       "    </tr>\n",
       "    <tr>\n",
       "      <th>6</th>\n",
       "      <td>2023-09-01 00:30:00+02</td>\n",
       "      <td>BtsId=187,CellId=2,CarrierId=0</td>\n",
       "      <td>79.933333</td>\n",
       "      <td>85.166667</td>\n",
       "      <td>0</td>\n",
       "    </tr>\n",
       "    <tr>\n",
       "      <th>7</th>\n",
       "      <td>2023-09-01 00:30:00+02</td>\n",
       "      <td>BtsId=187,CellId=2,CarrierId=1</td>\n",
       "      <td>100.807692</td>\n",
       "      <td>106.961538</td>\n",
       "      <td>0</td>\n",
       "    </tr>\n",
       "    <tr>\n",
       "      <th>8</th>\n",
       "      <td>2023-09-01 00:30:00+02</td>\n",
       "      <td>BtsId=192,CellId=0,CarrierId=0</td>\n",
       "      <td>14.687500</td>\n",
       "      <td>15.859375</td>\n",
       "      <td>0</td>\n",
       "    </tr>\n",
       "    <tr>\n",
       "      <th>9</th>\n",
       "      <td>2023-09-01 00:30:00+02</td>\n",
       "      <td>BtsId=192,CellId=0,CarrierId=1</td>\n",
       "      <td>11.405405</td>\n",
       "      <td>12.202703</td>\n",
       "      <td>0</td>\n",
       "    </tr>\n",
       "  </tbody>\n",
       "</table>\n",
       "</div>"
      ],
      "text/plain": [
       "                timestamp                            name  \\\n",
       "0  2023-09-01 00:30:00+02  BtsId=997,CellId=0,CarrierId=0   \n",
       "1  2023-09-01 00:30:00+02  BtsId=997,CellId=0,CarrierId=1   \n",
       "2  2023-09-01 00:30:00+02  BtsId=187,CellId=0,CarrierId=0   \n",
       "3  2023-09-01 00:30:00+02  BtsId=187,CellId=0,CarrierId=1   \n",
       "4  2023-09-01 00:30:00+02  BtsId=187,CellId=1,CarrierId=0   \n",
       "5  2023-09-01 00:30:00+02  BtsId=187,CellId=1,CarrierId=1   \n",
       "6  2023-09-01 00:30:00+02  BtsId=187,CellId=2,CarrierId=0   \n",
       "7  2023-09-01 00:30:00+02  BtsId=187,CellId=2,CarrierId=1   \n",
       "8  2023-09-01 00:30:00+02  BtsId=192,CellId=0,CarrierId=0   \n",
       "9  2023-09-01 00:30:00+02  BtsId=192,CellId=0,CarrierId=1   \n",
       "\n",
       "   AvgSessionSetupDuration[s]  AvgSessionDuration[s]  TotalBlocks  \n",
       "0                    0.000000               0.000000            0  \n",
       "1                    6.000000               6.500000            0  \n",
       "2                  108.571429             115.428571            0  \n",
       "3                   50.844828              53.931034            0  \n",
       "4                  208.000000             218.500000            0  \n",
       "5                  411.500000             432.750000            0  \n",
       "6                   79.933333              85.166667            0  \n",
       "7                  100.807692             106.961538            0  \n",
       "8                   14.687500              15.859375            0  \n",
       "9                   11.405405              12.202703            0  "
      ]
     },
     "execution_count": 4,
     "metadata": {},
     "output_type": "execute_result"
    }
   ],
   "source": [
    "print(dataframes['research_data2.csv'].shape)\n",
    "dataframes['research_data2.csv'].head(10)"
   ]
  },
  {
   "cell_type": "code",
   "execution_count": 5,
   "metadata": {},
   "outputs": [],
   "source": [
    "# Step 1: Remove duplicates in research_data\n",
    "# Keep rows where 'PageSessionTotal' is non-zero in case of duplicates\n",
    "dataframes['research_data.csv'] = (\n",
    "    dataframes['research_data.csv'].sort_values(by='PageSessionTotal', ascending=False)\n",
    "    .drop_duplicates(subset=['timestamp', 'name'], keep='first')\n",
    ")\n",
    "\n",
    "# Step 2: Merge the cleaned dataframe with research_data2\n",
    "df = pd.merge(dataframes['research_data.csv'], dataframes['research_data2.csv'], on=['timestamp', 'name'], how='outer').sort_values(by=['timestamp', 'name'])"
   ]
  },
  {
   "cell_type": "markdown",
   "metadata": {},
   "source": [
    "# Column processing"
   ]
  },
  {
   "cell_type": "markdown",
   "metadata": {},
   "source": [
    "KPIs"
   ]
  },
  {
   "cell_type": "code",
   "execution_count": 6,
   "metadata": {},
   "outputs": [],
   "source": [
    "df.rename(columns={\n",
    "    'MinRSSImain[dBm]': 'minRSSI',\n",
    "    'PageSessionTotal': 'pageSessions',\n",
    "    'ULvolMByte': 'ULvol',\n",
    "    'AvgSessionSetupDuration[s]': 'sessionSetupDur',\n",
    "    'AvgSessionDuration[s]': 'sessionDur',\n",
    "    'TotalBlocks': 'blocks'\n",
    "}, inplace=True)"
   ]
  },
  {
   "cell_type": "code",
   "execution_count": 7,
   "metadata": {},
   "outputs": [],
   "source": [
    "kpis = [col for col in df.columns if col not in ['timestamp', 'name']]"
   ]
  },
  {
   "cell_type": "markdown",
   "metadata": {},
   "source": [
    "Timestamps"
   ]
  },
  {
   "cell_type": "code",
   "execution_count": 8,
   "metadata": {},
   "outputs": [
    {
     "data": {
      "text/html": [
       "<div>\n",
       "<style scoped>\n",
       "    .dataframe tbody tr th:only-of-type {\n",
       "        vertical-align: middle;\n",
       "    }\n",
       "\n",
       "    .dataframe tbody tr th {\n",
       "        vertical-align: top;\n",
       "    }\n",
       "\n",
       "    .dataframe thead th {\n",
       "        text-align: right;\n",
       "    }\n",
       "</style>\n",
       "<table border=\"1\" class=\"dataframe\">\n",
       "  <thead>\n",
       "    <tr style=\"text-align: right;\">\n",
       "      <th></th>\n",
       "      <th>timestamp</th>\n",
       "      <th>name</th>\n",
       "      <th>minRSSI</th>\n",
       "      <th>pageSessions</th>\n",
       "      <th>ULvol</th>\n",
       "      <th>sessionSetupDur</th>\n",
       "      <th>sessionDur</th>\n",
       "      <th>blocks</th>\n",
       "    </tr>\n",
       "  </thead>\n",
       "  <tbody>\n",
       "    <tr>\n",
       "      <th>5247698</th>\n",
       "      <td>2023-09-01 00:30:00+02</td>\n",
       "      <td>BtsId=154,CellId=0,CarrierId=1</td>\n",
       "      <td>-102.50</td>\n",
       "      <td>78.0</td>\n",
       "      <td>0.829355</td>\n",
       "      <td>17.457447</td>\n",
       "      <td>18.521277</td>\n",
       "      <td>0</td>\n",
       "    </tr>\n",
       "    <tr>\n",
       "      <th>3015680</th>\n",
       "      <td>2023-09-01 00:30:00+02</td>\n",
       "      <td>BtsId=154,CellId=1,CarrierId=1</td>\n",
       "      <td>-103.84</td>\n",
       "      <td>159.0</td>\n",
       "      <td>1.450913</td>\n",
       "      <td>27.500000</td>\n",
       "      <td>29.200000</td>\n",
       "      <td>0</td>\n",
       "    </tr>\n",
       "    <tr>\n",
       "      <th>6045588</th>\n",
       "      <td>2023-09-01 00:30:00+02</td>\n",
       "      <td>BtsId=154,CellId=2,CarrierId=1</td>\n",
       "      <td>-104.92</td>\n",
       "      <td>60.0</td>\n",
       "      <td>0.746502</td>\n",
       "      <td>4.558011</td>\n",
       "      <td>4.795580</td>\n",
       "      <td>0</td>\n",
       "    </tr>\n",
       "    <tr>\n",
       "      <th>6974462</th>\n",
       "      <td>2023-09-01 00:30:00+02</td>\n",
       "      <td>BtsId=162,CellId=0,CarrierId=0</td>\n",
       "      <td>-104.19</td>\n",
       "      <td>43.0</td>\n",
       "      <td>0.436677</td>\n",
       "      <td>84.500000</td>\n",
       "      <td>88.785714</td>\n",
       "      <td>0</td>\n",
       "    </tr>\n",
       "    <tr>\n",
       "      <th>6695893</th>\n",
       "      <td>2023-09-01 00:30:00+02</td>\n",
       "      <td>BtsId=162,CellId=0,CarrierId=1</td>\n",
       "      <td>-103.93</td>\n",
       "      <td>48.0</td>\n",
       "      <td>0.519392</td>\n",
       "      <td>90.785714</td>\n",
       "      <td>96.428571</td>\n",
       "      <td>0</td>\n",
       "    </tr>\n",
       "  </tbody>\n",
       "</table>\n",
       "</div>"
      ],
      "text/plain": [
       "                      timestamp                            name  minRSSI  \\\n",
       "5247698  2023-09-01 00:30:00+02  BtsId=154,CellId=0,CarrierId=1  -102.50   \n",
       "3015680  2023-09-01 00:30:00+02  BtsId=154,CellId=1,CarrierId=1  -103.84   \n",
       "6045588  2023-09-01 00:30:00+02  BtsId=154,CellId=2,CarrierId=1  -104.92   \n",
       "6974462  2023-09-01 00:30:00+02  BtsId=162,CellId=0,CarrierId=0  -104.19   \n",
       "6695893  2023-09-01 00:30:00+02  BtsId=162,CellId=0,CarrierId=1  -103.93   \n",
       "\n",
       "         pageSessions     ULvol  sessionSetupDur  sessionDur  blocks  \n",
       "5247698          78.0  0.829355        17.457447   18.521277       0  \n",
       "3015680         159.0  1.450913        27.500000   29.200000       0  \n",
       "6045588          60.0  0.746502         4.558011    4.795580       0  \n",
       "6974462          43.0  0.436677        84.500000   88.785714       0  \n",
       "6695893          48.0  0.519392        90.785714   96.428571       0  "
      ]
     },
     "execution_count": 8,
     "metadata": {},
     "output_type": "execute_result"
    }
   ],
   "source": [
    "df.head()"
   ]
  },
  {
   "cell_type": "code",
   "execution_count": 9,
   "metadata": {},
   "outputs": [
    {
     "data": {
      "text/html": [
       "<div>\n",
       "<style scoped>\n",
       "    .dataframe tbody tr th:only-of-type {\n",
       "        vertical-align: middle;\n",
       "    }\n",
       "\n",
       "    .dataframe tbody tr th {\n",
       "        vertical-align: top;\n",
       "    }\n",
       "\n",
       "    .dataframe thead th {\n",
       "        text-align: right;\n",
       "    }\n",
       "</style>\n",
       "<table border=\"1\" class=\"dataframe\">\n",
       "  <thead>\n",
       "    <tr style=\"text-align: right;\">\n",
       "      <th></th>\n",
       "      <th>timestamp</th>\n",
       "      <th>name</th>\n",
       "      <th>minRSSI</th>\n",
       "      <th>pageSessions</th>\n",
       "      <th>ULvol</th>\n",
       "      <th>sessionSetupDur</th>\n",
       "      <th>sessionDur</th>\n",
       "      <th>blocks</th>\n",
       "    </tr>\n",
       "  </thead>\n",
       "  <tbody>\n",
       "    <tr>\n",
       "      <th>5247698</th>\n",
       "      <td>2023-09-01 02:30:00</td>\n",
       "      <td>BtsId=154,CellId=0,CarrierId=1</td>\n",
       "      <td>-102.50</td>\n",
       "      <td>78.0</td>\n",
       "      <td>0.829355</td>\n",
       "      <td>17.457447</td>\n",
       "      <td>18.521277</td>\n",
       "      <td>0</td>\n",
       "    </tr>\n",
       "    <tr>\n",
       "      <th>3015680</th>\n",
       "      <td>2023-09-01 02:30:00</td>\n",
       "      <td>BtsId=154,CellId=1,CarrierId=1</td>\n",
       "      <td>-103.84</td>\n",
       "      <td>159.0</td>\n",
       "      <td>1.450913</td>\n",
       "      <td>27.500000</td>\n",
       "      <td>29.200000</td>\n",
       "      <td>0</td>\n",
       "    </tr>\n",
       "    <tr>\n",
       "      <th>6045588</th>\n",
       "      <td>2023-09-01 02:30:00</td>\n",
       "      <td>BtsId=154,CellId=2,CarrierId=1</td>\n",
       "      <td>-104.92</td>\n",
       "      <td>60.0</td>\n",
       "      <td>0.746502</td>\n",
       "      <td>4.558011</td>\n",
       "      <td>4.795580</td>\n",
       "      <td>0</td>\n",
       "    </tr>\n",
       "    <tr>\n",
       "      <th>6974462</th>\n",
       "      <td>2023-09-01 02:30:00</td>\n",
       "      <td>BtsId=162,CellId=0,CarrierId=0</td>\n",
       "      <td>-104.19</td>\n",
       "      <td>43.0</td>\n",
       "      <td>0.436677</td>\n",
       "      <td>84.500000</td>\n",
       "      <td>88.785714</td>\n",
       "      <td>0</td>\n",
       "    </tr>\n",
       "    <tr>\n",
       "      <th>6695893</th>\n",
       "      <td>2023-09-01 02:30:00</td>\n",
       "      <td>BtsId=162,CellId=0,CarrierId=1</td>\n",
       "      <td>-103.93</td>\n",
       "      <td>48.0</td>\n",
       "      <td>0.519392</td>\n",
       "      <td>90.785714</td>\n",
       "      <td>96.428571</td>\n",
       "      <td>0</td>\n",
       "    </tr>\n",
       "  </tbody>\n",
       "</table>\n",
       "</div>"
      ],
      "text/plain": [
       "                  timestamp                            name  minRSSI  \\\n",
       "5247698 2023-09-01 02:30:00  BtsId=154,CellId=0,CarrierId=1  -102.50   \n",
       "3015680 2023-09-01 02:30:00  BtsId=154,CellId=1,CarrierId=1  -103.84   \n",
       "6045588 2023-09-01 02:30:00  BtsId=154,CellId=2,CarrierId=1  -104.92   \n",
       "6974462 2023-09-01 02:30:00  BtsId=162,CellId=0,CarrierId=0  -104.19   \n",
       "6695893 2023-09-01 02:30:00  BtsId=162,CellId=0,CarrierId=1  -103.93   \n",
       "\n",
       "         pageSessions     ULvol  sessionSetupDur  sessionDur  blocks  \n",
       "5247698          78.0  0.829355        17.457447   18.521277       0  \n",
       "3015680         159.0  1.450913        27.500000   29.200000       0  \n",
       "6045588          60.0  0.746502         4.558011    4.795580       0  \n",
       "6974462          43.0  0.436677        84.500000   88.785714       0  \n",
       "6695893          48.0  0.519392        90.785714   96.428571       0  "
      ]
     },
     "execution_count": 9,
     "metadata": {},
     "output_type": "execute_result"
    }
   ],
   "source": [
    "def convert_to_naive(timestamp):\n",
    "    dt_aware = datetime.fromisoformat(timestamp)         # Convert to timezone-aware datetime\n",
    "    adjusted_time = dt_aware + dt_aware.utcoffset()      # Adjust for the UTC offset\n",
    "    return adjusted_time.replace(tzinfo=None)            # Remove timezone info\n",
    "\n",
    "df['timestamp'] = df['timestamp'].astype(str)\n",
    "df['timestamp'] = df['timestamp'].apply(convert_to_naive)\n",
    "\n",
    "df.head()"
   ]
  },
  {
   "cell_type": "markdown",
   "metadata": {},
   "source": [
    "Cells"
   ]
  },
  {
   "cell_type": "code",
   "execution_count": null,
   "metadata": {},
   "outputs": [],
   "source": [
    "# Split the 'name' column into separate parts\n",
    "df[['bts', 'antenna', 'carrier']] = df['name'].str.extract(r'BtsId=(\\d+),CellId=(\\d+),CarrierId=(\\d+)')\n",
    "\n",
    "# Create the new 'cell' column\n",
    "df['cell'] = df['bts'] + '_' + df['antenna'] + '_' + df['carrier']\n",
    "\n",
    "df = df.drop('name', axis=1)"
   ]
  },
  {
   "cell_type": "code",
   "execution_count": 11,
   "metadata": {},
   "outputs": [
    {
     "data": {
      "text/html": [
       "<div>\n",
       "<style scoped>\n",
       "    .dataframe tbody tr th:only-of-type {\n",
       "        vertical-align: middle;\n",
       "    }\n",
       "\n",
       "    .dataframe tbody tr th {\n",
       "        vertical-align: top;\n",
       "    }\n",
       "\n",
       "    .dataframe thead th {\n",
       "        text-align: right;\n",
       "    }\n",
       "</style>\n",
       "<table border=\"1\" class=\"dataframe\">\n",
       "  <thead>\n",
       "    <tr style=\"text-align: right;\">\n",
       "      <th></th>\n",
       "      <th>timestamp</th>\n",
       "      <th>cell</th>\n",
       "      <th>bts</th>\n",
       "      <th>antenna</th>\n",
       "      <th>carrier</th>\n",
       "      <th>minRSSI</th>\n",
       "      <th>pageSessions</th>\n",
       "      <th>ULvol</th>\n",
       "      <th>sessionSetupDur</th>\n",
       "      <th>sessionDur</th>\n",
       "      <th>blocks</th>\n",
       "    </tr>\n",
       "  </thead>\n",
       "  <tbody>\n",
       "    <tr>\n",
       "      <th>5247698</th>\n",
       "      <td>2023-09-01 02:30:00</td>\n",
       "      <td>154_0_1</td>\n",
       "      <td>154</td>\n",
       "      <td>0</td>\n",
       "      <td>1</td>\n",
       "      <td>-102.50</td>\n",
       "      <td>78.0</td>\n",
       "      <td>0.829355</td>\n",
       "      <td>17.457447</td>\n",
       "      <td>18.521277</td>\n",
       "      <td>0</td>\n",
       "    </tr>\n",
       "    <tr>\n",
       "      <th>3015680</th>\n",
       "      <td>2023-09-01 02:30:00</td>\n",
       "      <td>154_1_1</td>\n",
       "      <td>154</td>\n",
       "      <td>1</td>\n",
       "      <td>1</td>\n",
       "      <td>-103.84</td>\n",
       "      <td>159.0</td>\n",
       "      <td>1.450913</td>\n",
       "      <td>27.500000</td>\n",
       "      <td>29.200000</td>\n",
       "      <td>0</td>\n",
       "    </tr>\n",
       "    <tr>\n",
       "      <th>6045588</th>\n",
       "      <td>2023-09-01 02:30:00</td>\n",
       "      <td>154_2_1</td>\n",
       "      <td>154</td>\n",
       "      <td>2</td>\n",
       "      <td>1</td>\n",
       "      <td>-104.92</td>\n",
       "      <td>60.0</td>\n",
       "      <td>0.746502</td>\n",
       "      <td>4.558011</td>\n",
       "      <td>4.795580</td>\n",
       "      <td>0</td>\n",
       "    </tr>\n",
       "    <tr>\n",
       "      <th>6974462</th>\n",
       "      <td>2023-09-01 02:30:00</td>\n",
       "      <td>162_0_0</td>\n",
       "      <td>162</td>\n",
       "      <td>0</td>\n",
       "      <td>0</td>\n",
       "      <td>-104.19</td>\n",
       "      <td>43.0</td>\n",
       "      <td>0.436677</td>\n",
       "      <td>84.500000</td>\n",
       "      <td>88.785714</td>\n",
       "      <td>0</td>\n",
       "    </tr>\n",
       "    <tr>\n",
       "      <th>6695893</th>\n",
       "      <td>2023-09-01 02:30:00</td>\n",
       "      <td>162_0_1</td>\n",
       "      <td>162</td>\n",
       "      <td>0</td>\n",
       "      <td>1</td>\n",
       "      <td>-103.93</td>\n",
       "      <td>48.0</td>\n",
       "      <td>0.519392</td>\n",
       "      <td>90.785714</td>\n",
       "      <td>96.428571</td>\n",
       "      <td>0</td>\n",
       "    </tr>\n",
       "  </tbody>\n",
       "</table>\n",
       "</div>"
      ],
      "text/plain": [
       "                  timestamp     cell  bts antenna carrier  minRSSI  \\\n",
       "5247698 2023-09-01 02:30:00  154_0_1  154       0       1  -102.50   \n",
       "3015680 2023-09-01 02:30:00  154_1_1  154       1       1  -103.84   \n",
       "6045588 2023-09-01 02:30:00  154_2_1  154       2       1  -104.92   \n",
       "6974462 2023-09-01 02:30:00  162_0_0  162       0       0  -104.19   \n",
       "6695893 2023-09-01 02:30:00  162_0_1  162       0       1  -103.93   \n",
       "\n",
       "         pageSessions     ULvol  sessionSetupDur  sessionDur  blocks  \n",
       "5247698          78.0  0.829355        17.457447   18.521277       0  \n",
       "3015680         159.0  1.450913        27.500000   29.200000       0  \n",
       "6045588          60.0  0.746502         4.558011    4.795580       0  \n",
       "6974462          43.0  0.436677        84.500000   88.785714       0  \n",
       "6695893          48.0  0.519392        90.785714   96.428571       0  "
      ]
     },
     "execution_count": 11,
     "metadata": {},
     "output_type": "execute_result"
    }
   ],
   "source": [
    "columns_order = ['timestamp', 'cell', 'bts', 'antenna', 'carrier'] + kpis\n",
    "df = df[columns_order]\n",
    "df.head()"
   ]
  },
  {
   "cell_type": "markdown",
   "metadata": {},
   "source": [
    "# Missing values"
   ]
  },
  {
   "cell_type": "code",
   "execution_count": 12,
   "metadata": {},
   "outputs": [
    {
     "data": {
      "text/plain": [
       "timestamp               0\n",
       "cell                    0\n",
       "bts                     0\n",
       "antenna                 0\n",
       "carrier                 0\n",
       "minRSSI            149133\n",
       "pageSessions       149133\n",
       "ULvol              149133\n",
       "sessionSetupDur         0\n",
       "sessionDur              0\n",
       "blocks                  0\n",
       "dtype: int64"
      ]
     },
     "execution_count": 12,
     "metadata": {},
     "output_type": "execute_result"
    }
   ],
   "source": [
    "df.isnull().sum()"
   ]
  },
  {
   "cell_type": "code",
   "execution_count": 13,
   "metadata": {},
   "outputs": [
    {
     "name": "stdout",
     "output_type": "stream",
     "text": [
      "918\n",
      "938\n"
     ]
    }
   ],
   "source": [
    "print(dataframes['research_data.csv']['name'].nunique())\n",
    "print(dataframes['research_data2.csv']['name'].nunique())"
   ]
  },
  {
   "cell_type": "code",
   "execution_count": 14,
   "metadata": {},
   "outputs": [
    {
     "name": "stdout",
     "output_type": "stream",
     "text": [
      "(15797119, 11)\n"
     ]
    }
   ],
   "source": [
    "df = df.dropna(subset=['minRSSI'])\n",
    "\n",
    "# Display the first few rows of the DataFrame to confirm\n",
    "print(df.shape)"
   ]
  },
  {
   "cell_type": "code",
   "execution_count": 15,
   "metadata": {},
   "outputs": [
    {
     "name": "stdout",
     "output_type": "stream",
     "text": [
      "Min: 3340, Max: 19086, Mean: 17207.200435729847\n"
     ]
    }
   ],
   "source": [
    "unique_timestamps_per_cell = df.groupby('cell')['timestamp'].nunique()\n",
    "\n",
    "min_value = unique_timestamps_per_cell.min()\n",
    "max_value = unique_timestamps_per_cell.max()\n",
    "mean_value = unique_timestamps_per_cell.mean()\n",
    "\n",
    "print(f\"Min: {min_value}, Max: {max_value}, Mean: {mean_value}\")"
   ]
  },
  {
   "cell_type": "code",
   "execution_count": 16,
   "metadata": {},
   "outputs": [
    {
     "data": {
      "text/plain": [
       "19088"
      ]
     },
     "execution_count": 16,
     "metadata": {},
     "output_type": "execute_result"
    }
   ],
   "source": [
    "total_unique_timestamps = df['timestamp'].nunique()\n",
    "total_unique_timestamps"
   ]
  },
  {
   "cell_type": "code",
   "execution_count": null,
   "metadata": {},
   "outputs": [
    {
     "name": "stdout",
     "output_type": "stream",
     "text": [
      "(12926033, 11)\n"
     ]
    },
    {
     "data": {
      "text/plain": [
       "(                  timestamp     cell  bts antenna carrier  minRSSI  \\\n",
       " 5247698 2023-09-01 02:30:00  154_0_1  154       0       1  -102.50   \n",
       " 3015680 2023-09-01 02:30:00  154_1_1  154       1       1  -103.84   \n",
       " 6045588 2023-09-01 02:30:00  154_2_1  154       2       1  -104.92   \n",
       " 6974462 2023-09-01 02:30:00  162_0_0  162       0       0  -104.19   \n",
       " 6695893 2023-09-01 02:30:00  162_0_1  162       0       1  -103.93   \n",
       " \n",
       "          pageSessions     ULvol  sessionSetupDur  sessionDur  blocks  \n",
       " 5247698          78.0  0.829355        17.457447   18.521277       0  \n",
       " 3015680         159.0  1.450913        27.500000   29.200000       0  \n",
       " 6045588          60.0  0.746502         4.558011    4.795580       0  \n",
       " 6974462          43.0  0.436677        84.500000   88.785714       0  \n",
       " 6695893          48.0  0.519392        90.785714   96.428571       0  ,\n",
       " None)"
      ]
     },
     "execution_count": 17,
     "metadata": {},
     "output_type": "execute_result"
    }
   ],
   "source": [
    "threshold = mean_value\n",
    "\n",
    "# Filter out 'name' entries that have less than the threshold number of unique timestamps\n",
    "names_to_keep = unique_timestamps_per_cell[unique_timestamps_per_cell >= threshold].index\n",
    "df = df[df['cell'].isin(names_to_keep)]\n",
    "\n",
    "df.head(), print(df.shape)"
   ]
  },
  {
   "cell_type": "markdown",
   "metadata": {},
   "source": [
    "Need to drop bts 995 to 999 (internal requirement)."
   ]
  },
  {
   "cell_type": "code",
   "execution_count": null,
   "metadata": {},
   "outputs": [
    {
     "name": "stdout",
     "output_type": "stream",
     "text": [
      "(12741835, 11)\n"
     ]
    }
   ],
   "source": [
    "bts_to_drop = ['995', '996', '997', '998', '999']\n",
    "df = df[~df['bts'].isin(bts_to_drop)]\n",
    "\n",
    "print(df.shape)"
   ]
  },
  {
   "cell_type": "markdown",
   "metadata": {},
   "source": [
    "# Export"
   ]
  },
  {
   "cell_type": "code",
   "execution_count": 20,
   "metadata": {},
   "outputs": [],
   "source": [
    "exp_folder = config['data_path']\n",
    "df.to_csv(os.path.join(exp_folder, 'full_kpis.csv'), index=False)"
   ]
  },
  {
   "cell_type": "code",
   "execution_count": null,
   "metadata": {},
   "outputs": [],
   "source": []
  }
 ],
 "metadata": {
  "kernelspec": {
   "display_name": "uni_tilburg",
   "language": "python",
   "name": "python3"
  },
  "language_info": {
   "codemirror_mode": {
    "name": "ipython",
    "version": 3
   },
   "file_extension": ".py",
   "mimetype": "text/x-python",
   "name": "python",
   "nbconvert_exporter": "python",
   "pygments_lexer": "ipython3",
   "version": "3.11.5"
  }
 },
 "nbformat": 4,
 "nbformat_minor": 2
}
