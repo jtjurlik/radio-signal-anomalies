{
 "cells": [
  {
   "cell_type": "code",
   "execution_count": 19,
   "metadata": {
    "colab": {
     "base_uri": "https://localhost:8080/"
    },
    "executionInfo": {
     "elapsed": 2055,
     "status": "ok",
     "timestamp": 1732458049105,
     "user": {
      "displayName": "Jakob Tjurlik",
      "userId": "10339029674418762018"
     },
     "user_tz": -60
    },
    "id": "dD5zQDdqMWLa",
    "outputId": "21813460-910a-4d29-ef71-a856a797cd7e"
   },
   "outputs": [
    {
     "name": "stdout",
     "output_type": "stream",
     "text": [
      "Drive already mounted at /content/drive; to attempt to forcibly remount, call drive.mount(\"/content/drive\", force_remount=True).\n"
     ]
    }
   ],
   "source": [
    "from google.colab import drive\n",
    "drive.mount('/content/drive')"
   ]
  },
  {
   "cell_type": "code",
   "execution_count": null,
   "metadata": {
    "colab": {
     "base_uri": "https://localhost:8080/"
    },
    "collapsed": true,
    "executionInfo": {
     "elapsed": 2434,
     "status": "ok",
     "timestamp": 1732458051535,
     "user": {
      "displayName": "Jakob Tjurlik",
      "userId": "10339029674418762018"
     },
     "user_tz": -60
    },
    "id": "PNY35IV9PKtY",
    "outputId": "a7f7c477-c003-414a-b619-48f1e27a65ee"
   },
   "outputs": [],
   "source": [
    "!pip install -U keras-tuner"
   ]
  },
  {
   "cell_type": "code",
   "execution_count": 21,
   "metadata": {
    "executionInfo": {
     "elapsed": 9,
     "status": "ok",
     "timestamp": 1732458051535,
     "user": {
      "displayName": "Jakob Tjurlik",
      "userId": "10339029674418762018"
     },
     "user_tz": -60
    },
    "id": "dazA9FqwLJie"
   },
   "outputs": [],
   "source": [
    "import numpy as np\n",
    "import pandas as pd\n",
    "import os\n",
    "from sklearn.preprocessing import MinMaxScaler, StandardScaler\n",
    "from sklearn.metrics import mean_absolute_error, mean_squared_error\n",
    "from sklearn.model_selection import TimeSeriesSplit\n",
    "from keras.models import Sequential, Model\n",
    "from keras.layers import Conv1D, Dense, Flatten, Dropout, Input, MaxPooling1D\n",
    "from keras.regularizers import l2\n",
    "from keras.callbacks import EarlyStopping\n",
    "from keras import utils\n",
    "import keras_tuner as kt\n",
    "\n",
    "utils.set_random_seed(42)"
   ]
  },
  {
   "cell_type": "code",
   "execution_count": 22,
   "metadata": {
    "executionInfo": {
     "elapsed": 9,
     "status": "ok",
     "timestamp": 1732458051535,
     "user": {
      "displayName": "Jakob Tjurlik",
      "userId": "10339029674418762018"
     },
     "user_tz": -60
    },
    "id": "VjTCMXai53r8"
   },
   "outputs": [],
   "source": [
    "# Define Parameters\n",
    "LOOKBACK = 24\n",
    "HORIZON = 24\n",
    "N_SPLITS = 4\n",
    "EPOCHS = 10"
   ]
  },
  {
   "cell_type": "markdown",
   "metadata": {
    "id": "isvcolF8_kWu"
   },
   "source": [
    "# Prepare data"
   ]
  },
  {
   "cell_type": "code",
   "execution_count": null,
   "metadata": {
    "colab": {
     "base_uri": "https://localhost:8080/"
    },
    "executionInfo": {
     "elapsed": 2832,
     "status": "ok",
     "timestamp": 1732458054359,
     "user": {
      "displayName": "Jakob Tjurlik",
      "userId": "10339029674418762018"
     },
     "user_tz": -60
    },
    "id": "vW_sPK1f_6Xs",
    "outputId": "c8368189-7912-40eb-f009-d2fa249270a0"
   },
   "outputs": [
    {
     "name": "stdout",
     "output_type": "stream",
     "text": [
      "(933661, 24)\n"
     ]
    },
    {
     "data": {
      "text/plain": [
       "Index(['timestamp', 'cell', 'bts', 'antenna', 'carrier', 'minRSSI',\n",
       "       'pageSessions', 'ULvol', 'sessionDur', 'blocks', 'AnomalyDay',\n",
       "       'anomaly', 'noise', 'Height', 'Azimuth', 'SectorsPerBts', 'NearbyBts',\n",
       "       'Dist2Coast', 'ClusterId', 'CellsPerBts', 'OverallPageSessions',\n",
       "       'OverallULvol', 'OverallSessionDur', 'OverallBlocks'],\n",
       "      dtype='object')"
      ]
     },
     "execution_count": 23,
     "metadata": {},
     "output_type": "execute_result"
    }
   ],
   "source": [
    "imp_folder = os.getenv(\"DATA_PATH\", \"./default_data_path/\")\n",
    "exp_folder = os.getenv(\"MODEL_PATH\", \"./default_model_path/\")\n",
    "\n",
    "df = pd.read_csv(imp_folder + 'cell_multivar.csv')\n",
    "\n",
    "print(df.shape)\n",
    "df.columns"
   ]
  },
  {
   "cell_type": "code",
   "execution_count": 24,
   "metadata": {
    "executionInfo": {
     "elapsed": 19,
     "status": "ok",
     "timestamp": 1732458054359,
     "user": {
      "displayName": "Jakob Tjurlik",
      "userId": "10339029674418762018"
     },
     "user_tz": -60
    },
    "id": "OYeeCcNIUd_F"
   },
   "outputs": [],
   "source": [
    "temporal_X = ['pageSessions', 'ULvol', 'sessionDur']\n",
    "static_X = ['Height', 'Azimuth', 'Dist2Coast', 'ClusterId',\n",
    "            'CellsPerBts', 'OverallPageSessions', 'OverallULvol',\n",
    "            'OverallSessionDur', 'OverallBlocks']"
   ]
  },
  {
   "cell_type": "markdown",
   "metadata": {
    "id": "mPkJYqv65-8O"
   },
   "source": [
    "# Funcs"
   ]
  },
  {
   "cell_type": "code",
   "execution_count": 25,
   "metadata": {
    "executionInfo": {
     "elapsed": 18,
     "status": "ok",
     "timestamp": 1732458054359,
     "user": {
      "displayName": "Jakob Tjurlik",
      "userId": "10339029674418762018"
     },
     "user_tz": -60
    },
    "id": "ldcRlogr5843"
   },
   "outputs": [],
   "source": [
    "# Time series split function (Expanding Window)\n",
    "def time_series_split(df, n_splits=N_SPLITS, test_size=0.2):\n",
    "    df = df.sort_values('timestamp')\n",
    "    test_split_index = int(len(df) * (1 - test_size))\n",
    "    train_val_df = df.iloc[:test_split_index]\n",
    "    test_df = df.iloc[test_split_index:]\n",
    "\n",
    "    tscv = TimeSeriesSplit(n_splits=n_splits)\n",
    "    splits = [(train_val_df.iloc[train_index], train_val_df.iloc[val_index]) for train_index, val_index in tscv.split(train_val_df)]\n",
    "    return splits, test_df"
   ]
  },
  {
   "cell_type": "code",
   "execution_count": 26,
   "metadata": {
    "executionInfo": {
     "elapsed": 18,
     "status": "ok",
     "timestamp": 1732458054359,
     "user": {
      "displayName": "Jakob Tjurlik",
      "userId": "10339029674418762018"
     },
     "user_tz": -60
    },
    "id": "6oS3gb2T6Po6"
   },
   "outputs": [],
   "source": [
    "# Sequence creation for multivariate time series\n",
    "def create_sequences(df, lookback=LOOKBACK, horizon=HORIZON, static_X=static_X, temporal_X=temporal_X):\n",
    "    X, y, anomaly, cell_id = [], [], [], []\n",
    "\n",
    "    # Loop through each unique cell in the dataset\n",
    "    for cell in df['cell'].unique():\n",
    "        # Filter the dataframe for the current cell only\n",
    "        cell_df = df[df['cell'] == cell]\n",
    "\n",
    "        # Generate sequences within this cell's data\n",
    "        for i in range(lookback, len(cell_df) - horizon + 1):\n",
    "            # Lookback sequences with time-variant features\n",
    "            X_seq = cell_df.iloc[i - lookback:i][['minRSSI'] + temporal_X].values\n",
    "\n",
    "            # Repeat static features across lookback window and concatenate to time-variant features\n",
    "            static_seq = cell_df.iloc[i][static_X].values  # Static features for this cell at a single timestep\n",
    "            static_seq = np.tile(static_seq, (lookback, 1))  # Repeat to match lookback window length\n",
    "\n",
    "            # Concatenate time-variant and time-invariant features\n",
    "            X_combined = np.concatenate([X_seq, static_seq], axis=1)\n",
    "\n",
    "            # Target horizon sequence\n",
    "            y_seq = cell_df.iloc[i:i + horizon]['minRSSI'].values\n",
    "            # Anomaly sequences for later evaluation\n",
    "            anomaly_seq = cell_df.iloc[i:i + horizon]['anomaly'].values\n",
    "            # Cell ID for each sequence\n",
    "            cell_seq = cell_df.iloc[i:i + horizon]['cell'].values\n",
    "\n",
    "            # Append sequences to output lists\n",
    "            X.append(X_combined)\n",
    "            y.append(y_seq)\n",
    "            anomaly.append(anomaly_seq)\n",
    "            cell_id.append(cell_seq)\n",
    "\n",
    "    # Convert lists to numpy arrays for model input\n",
    "    return np.array(X), np.array(y), np.array(anomaly), np.array(cell_id)"
   ]
  },
  {
   "cell_type": "code",
   "execution_count": 27,
   "metadata": {
    "executionInfo": {
     "elapsed": 17,
     "status": "ok",
     "timestamp": 1732458054359,
     "user": {
      "displayName": "Jakob Tjurlik",
      "userId": "10339029674418762018"
     },
     "user_tz": -60
    },
    "id": "FSmSO9zRSSu-"
   },
   "outputs": [],
   "source": [
    "def scale_data_split(train_df, val_df, temporal_features=temporal_X, static_features=static_X):\n",
    "    scaler_temporal = StandardScaler()\n",
    "    scaler_static = MinMaxScaler()\n",
    "    scaler_target = StandardScaler()\n",
    "\n",
    "    # Scale time-variant features\n",
    "    train_df[temporal_features] = scaler_temporal.fit_transform(train_df[temporal_features])\n",
    "    val_df[temporal_features] = scaler_temporal.transform(val_df[temporal_features])\n",
    "\n",
    "    # Scale time-invariant features\n",
    "    train_df[static_features] = scaler_static.fit_transform(train_df[static_features])\n",
    "    val_df[static_features] = scaler_static.transform(val_df[static_features])\n",
    "\n",
    "    # Scale minRSSI separately (target variable)\n",
    "    train_df['minRSSI'] = scaler_target.fit_transform(train_df[['minRSSI']])\n",
    "    val_df['minRSSI'] = scaler_target.transform(val_df[['minRSSI']])\n",
    "\n",
    "    return train_df, val_df, scaler_target, scaler_temporal, scaler_static"
   ]
  },
  {
   "cell_type": "code",
   "execution_count": 31,
   "metadata": {
    "executionInfo": {
     "elapsed": 16,
     "status": "ok",
     "timestamp": 1732458833217,
     "user": {
      "displayName": "Jakob Tjurlik",
      "userId": "10339029674418762018"
     },
     "user_tz": -60
    },
    "id": "rHHpMuv8MBqO"
   },
   "outputs": [],
   "source": [
    "def tune_multi_cnn(X_train, y_train, X_val, y_val, max_epochs=EPOCHS):\n",
    "\n",
    "    def build_tunable_cnn(hp):\n",
    "        model = Sequential()\n",
    "        model.add(Input(shape=(X_train.shape[1], X_train.shape[2])))\n",
    "\n",
    "        # Add CNN layers with filter size, kernel size, activation, and padding\n",
    "        for i in range(hp.Int('num_conv_layers', 1, 4)):\n",
    "            model.add(Conv1D(\n",
    "                filters=hp.Choice(f'conv_filters_{i}', [16, 32, 64, 128]),\n",
    "                kernel_size=hp.Choice(f'conv_kernel_size_{i}', [1, 3, 5, 7]),\n",
    "                activation=hp.Choice(f'conv_activation_{i}', ['relu', 'tanh', 'linear']),\n",
    "                padding=hp.Choice(f'conv_padding_{i}', ['valid', 'same']),\n",
    "                kernel_regularizer=l2(hp.Choice('l2_regularizer', values=[1e-2, 1e-3, 1e-4]))\n",
    "            ))\n",
    "\n",
    "            # Optionally add MaxPooling layer\n",
    "            if hp.Boolean(f'use_maxpooling_{i}'):\n",
    "                model.add(MaxPooling1D(\n",
    "                    pool_size=hp.Choice(f'maxpool_size_{i}', [2, 3]),\n",
    "                    strides=hp.Choice(f'maxpool_stride_{i}', [1, 2])\n",
    "                ))\n",
    "\n",
    "        model.add(Flatten())\n",
    "\n",
    "        # Add dense layers\n",
    "        for j in range(hp.Int('num_dense_layers', 1, 3)):\n",
    "            model.add(Dense(\n",
    "                units=hp.Choice(f'dense_units_{j}', [32, 64, 128, 256]),\n",
    "                activation=hp.Choice(f'dense_activation_{j}', ['relu', 'tanh', 'linear'])\n",
    "            ))\n",
    "\n",
    "            # Optionally add dropout for dense layers\n",
    "            if hp.Boolean(f'use_dense_dropout_{j}'):\n",
    "                dense_dropout_rate = hp.Float(f'dense_dropout_rate_{j}', 0.1, 0.3, step=0.1)\n",
    "                model.add(Dropout(dense_dropout_rate))\n",
    "\n",
    "        # Final output layer for predictions\n",
    "        model.add(Dense(HORIZON))\n",
    "\n",
    "        # Compile model\n",
    "        model.compile(\n",
    "            optimizer='adam',\n",
    "            loss=hp.Choice('loss', ['mse', 'mae'])\n",
    "        )\n",
    "\n",
    "        return model\n",
    "\n",
    "    # Instantiate the Hyperband tuner\n",
    "    tuner = kt.Hyperband(\n",
    "        hypermodel=build_tunable_cnn,\n",
    "        objective='val_loss',\n",
    "        max_epochs=max_epochs,\n",
    "        factor=3,\n",
    "        directory='/content/drive/MyDrive/Thesis/Thesis/cnn/multivar_tuning',\n",
    "        project_name='1dcnn_multi_tuning'\n",
    "    )\n",
    "\n",
    "    # Perform the search\n",
    "    tuner.search(\n",
    "        X_train, y_train,\n",
    "        validation_data=(X_val, y_val),\n",
    "        epochs=max_epochs,\n",
    "        verbose=1\n",
    "    )\n",
    "\n",
    "    # Retrieve best model and hyperparameters\n",
    "    best_model = tuner.get_best_models(num_models=1)[0]\n",
    "    best_params = tuner.get_best_hyperparameters(num_trials=1)[0].values\n",
    "\n",
    "    return best_model, best_params\n"
   ]
  },
  {
   "cell_type": "markdown",
   "metadata": {
    "id": "SueCamVvA7Wp"
   },
   "source": [
    "# Run the tuning"
   ]
  },
  {
   "cell_type": "code",
   "execution_count": 29,
   "metadata": {
    "colab": {
     "base_uri": "https://localhost:8080/"
    },
    "executionInfo": {
     "elapsed": 778,
     "status": "ok",
     "timestamp": 1732458055121,
     "user": {
      "displayName": "Jakob Tjurlik",
      "userId": "10339029674418762018"
     },
     "user_tz": -60
    },
    "id": "QOKsYCyqX5cT",
    "outputId": "daa4ef4a-0f64-4abf-e55a-cc31dc9c7fa8"
   },
   "outputs": [
    {
     "name": "stdout",
     "output_type": "stream",
     "text": [
      "Split 1:\n",
      "  Train set shape: (149388, 24)\n",
      "  Validation set shape: (149385, 24)\n",
      "Split 2:\n",
      "  Train set shape: (298773, 24)\n",
      "  Validation set shape: (149385, 24)\n",
      "Split 3:\n",
      "  Train set shape: (448158, 24)\n",
      "  Validation set shape: (149385, 24)\n",
      "Split 4:\n",
      "  Train set shape: (597543, 24)\n",
      "  Validation set shape: (149385, 24)\n",
      "Test set shape: (186733, 24)\n"
     ]
    }
   ],
   "source": [
    "splits, test_set = time_series_split(df, 4)\n",
    "\n",
    "for i, (train, val) in enumerate(splits):\n",
    "    print(f\"Split {i + 1}:\")\n",
    "    print(f\"  Train set shape: {train.shape}\")\n",
    "    print(f\"  Validation set shape: {val.shape}\")\n",
    "\n",
    "print(f\"Test set shape: {test_set.shape}\")"
   ]
  },
  {
   "cell_type": "code",
   "execution_count": 30,
   "metadata": {
    "colab": {
     "base_uri": "https://localhost:8080/"
    },
    "executionInfo": {
     "elapsed": 778104,
     "status": "ok",
     "timestamp": 1732458833217,
     "user": {
      "displayName": "Jakob Tjurlik",
      "userId": "10339029674418762018"
     },
     "user_tz": -60
    },
    "id": "KOc8oBFLcwnm",
    "outputId": "4b914281-2c79-4a63-857c-3010560bbcc7"
   },
   "outputs": [
    {
     "name": "stdout",
     "output_type": "stream",
     "text": [
      "X_train shape: (435139, 24, 13), y_train shape: (435139, 24)\n",
      "X_val shape: (136366, 24, 13), y_val shape: (136366, 24)\n"
     ]
    }
   ],
   "source": [
    "scalers = {}\n",
    "\n",
    "split1, split2, split3, split4 = splits\n",
    "scaled_train, scaled_val, scaler_target, scaler_temporal, scaler_static = scale_data_split(split3[0], split3[1])\n",
    "scalers = {\n",
    "    'scaler_target': scaler_target,\n",
    "    'scaler_temporal': scaler_temporal,\n",
    "    'scaler_static': scaler_static\n",
    "}\n",
    "\n",
    "# Create sequences\n",
    "X_train, y_train, _, _ = create_sequences(scaled_train, LOOKBACK, HORIZON)\n",
    "X_val, y_val, _, _ = create_sequences(scaled_val, LOOKBACK, HORIZON)\n",
    "\n",
    "# Convert to float32 to avoid data type issues\n",
    "X_train, y_train = X_train.astype(np.float32), y_train.astype(np.float32)\n",
    "X_val, y_val = X_val.astype(np.float32), y_val.astype(np.float32)\n",
    "\n",
    "print(f\"X_train shape: {X_train.shape}, y_train shape: {y_train.shape}\")\n",
    "print(f\"X_val shape: {X_val.shape}, y_val shape: {y_val.shape}\")"
   ]
  },
  {
   "cell_type": "code",
   "execution_count": 32,
   "metadata": {
    "colab": {
     "base_uri": "https://localhost:8080/"
    },
    "executionInfo": {
     "elapsed": 3836892,
     "status": "ok",
     "timestamp": 1732462670094,
     "user": {
      "displayName": "Jakob Tjurlik",
      "userId": "10339029674418762018"
     },
     "user_tz": -60
    },
    "id": "0e2c28LHbmvV",
    "outputId": "a32d56aa-b713-4bab-f268-b4ace629af2e"
   },
   "outputs": [
    {
     "name": "stdout",
     "output_type": "stream",
     "text": [
      "Trial 30 Complete [00h 05m 11s]\n",
      "val_loss: 0.2650112807750702\n",
      "\n",
      "Best val_loss So Far: 0.2604689598083496\n",
      "Total elapsed time: 01h 03m 55s\n",
      "{'num_conv_layers': 1, 'conv_filters_0': 32, 'conv_kernel_size_0': 3, 'conv_activation_0': 'relu', 'conv_padding_0': 'valid', 'l2_regularizer': 0.001, 'use_maxpooling_0': False, 'num_dense_layers': 3, 'dense_units_0': 32, 'dense_activation_0': 'linear', 'use_dense_dropout_0': False, 'loss': 'mae', 'maxpool_size_0': 2, 'maxpool_stride_0': 2, 'conv_filters_1': 128, 'conv_kernel_size_1': 1, 'conv_activation_1': 'tanh', 'conv_padding_1': 'same', 'use_maxpooling_1': False, 'conv_filters_2': 64, 'conv_kernel_size_2': 7, 'conv_activation_2': 'linear', 'conv_padding_2': 'valid', 'use_maxpooling_2': True, 'conv_filters_3': 64, 'conv_kernel_size_3': 7, 'conv_activation_3': 'linear', 'conv_padding_3': 'same', 'use_maxpooling_3': False, 'dense_dropout_rate_0': 0.2, 'dense_units_1': 64, 'dense_activation_1': 'relu', 'use_dense_dropout_1': True, 'maxpool_size_2': 3, 'maxpool_stride_2': 1, 'dense_dropout_rate_1': 0.1, 'maxpool_size_1': 2, 'maxpool_stride_1': 1, 'dense_units_2': 256, 'dense_activation_2': 'linear', 'use_dense_dropout_2': True, 'dense_dropout_rate_2': 0.1, 'tuner/epochs': 10, 'tuner/initial_epoch': 4, 'tuner/bracket': 1, 'tuner/round': 1, 'tuner/trial_id': '0023'}\n"
     ]
    }
   ],
   "source": [
    "# Tune and train the model\n",
    "best_model, best_params = tune_multi_cnn(X_train, y_train, X_val, y_val)\n",
    "print(best_params)"
   ]
  }
 ],
 "metadata": {
  "accelerator": "GPU",
  "colab": {
   "gpuType": "T4",
   "machine_shape": "hm",
   "provenance": []
  },
  "kernelspec": {
   "display_name": "Python 3",
   "name": "python3"
  },
  "language_info": {
   "name": "python"
  }
 },
 "nbformat": 4,
 "nbformat_minor": 0
}
