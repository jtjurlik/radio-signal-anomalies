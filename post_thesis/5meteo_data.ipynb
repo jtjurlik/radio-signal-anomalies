{
 "cells": [
  {
   "cell_type": "code",
   "execution_count": 9,
   "metadata": {},
   "outputs": [],
   "source": [
    "import os\n",
    "import json\n",
    "import logging\n",
    "import sys\n",
    "\n",
    "import pandas as pd\n",
    "import numpy as np\n",
    "import matplotlib.pyplot as plt\n",
    "import seaborn as sns\n",
    "import requests"
   ]
  },
  {
   "cell_type": "markdown",
   "metadata": {},
   "source": [
    "# BTS coords data"
   ]
  },
  {
   "cell_type": "code",
   "execution_count": 5,
   "metadata": {},
   "outputs": [
    {
     "name": "stdout",
     "output_type": "stream",
     "text": [
      "(484, 4)\n"
     ]
    },
    {
     "data": {
      "text/html": [
       "<div>\n",
       "<style scoped>\n",
       "    .dataframe tbody tr th:only-of-type {\n",
       "        vertical-align: middle;\n",
       "    }\n",
       "\n",
       "    .dataframe tbody tr th {\n",
       "        vertical-align: top;\n",
       "    }\n",
       "\n",
       "    .dataframe thead th {\n",
       "        text-align: right;\n",
       "    }\n",
       "</style>\n",
       "<table border=\"1\" class=\"dataframe\">\n",
       "  <thead>\n",
       "    <tr style=\"text-align: right;\">\n",
       "      <th></th>\n",
       "      <th>lat</th>\n",
       "      <th>lon</th>\n",
       "      <th>Height</th>\n",
       "      <th>Azimuth</th>\n",
       "    </tr>\n",
       "    <tr>\n",
       "      <th>cell</th>\n",
       "      <th></th>\n",
       "      <th></th>\n",
       "      <th></th>\n",
       "      <th></th>\n",
       "    </tr>\n",
       "  </thead>\n",
       "  <tbody>\n",
       "    <tr>\n",
       "      <th>322_0</th>\n",
       "      <td>51.93255</td>\n",
       "      <td>6.57633</td>\n",
       "      <td>28.3</td>\n",
       "      <td>80</td>\n",
       "    </tr>\n",
       "    <tr>\n",
       "      <th>322_1</th>\n",
       "      <td>51.93255</td>\n",
       "      <td>6.57633</td>\n",
       "      <td>28.3</td>\n",
       "      <td>190</td>\n",
       "    </tr>\n",
       "    <tr>\n",
       "      <th>322_2</th>\n",
       "      <td>51.93255</td>\n",
       "      <td>6.57633</td>\n",
       "      <td>28.3</td>\n",
       "      <td>320</td>\n",
       "    </tr>\n",
       "    <tr>\n",
       "      <th>168_0</th>\n",
       "      <td>52.63140</td>\n",
       "      <td>4.72566</td>\n",
       "      <td>30.5</td>\n",
       "      <td>60</td>\n",
       "    </tr>\n",
       "    <tr>\n",
       "      <th>168_1</th>\n",
       "      <td>52.63140</td>\n",
       "      <td>4.72566</td>\n",
       "      <td>30.5</td>\n",
       "      <td>180</td>\n",
       "    </tr>\n",
       "  </tbody>\n",
       "</table>\n",
       "</div>"
      ],
      "text/plain": [
       "            lat      lon  Height  Azimuth\n",
       "cell                                     \n",
       "322_0  51.93255  6.57633    28.3       80\n",
       "322_1  51.93255  6.57633    28.3      190\n",
       "322_2  51.93255  6.57633    28.3      320\n",
       "168_0  52.63140  4.72566    30.5       60\n",
       "168_1  52.63140  4.72566    30.5      180"
      ]
     },
     "execution_count": 5,
     "metadata": {},
     "output_type": "execute_result"
    }
   ],
   "source": [
    "with open('../config.json', 'r') as config_file:\n",
    "    config = json.load(config_file)\n",
    "\n",
    "importcols = ['cell', 'lat', 'lon', 'Height', 'Azimuth']\n",
    "bts = pd.read_csv(os.path.join(config['data_path'], 'spatial_vars_old.csv'), usecols=importcols, index_col='cell')\n",
    "print(bts.shape)\n",
    "bts.head()"
   ]
  },
  {
   "cell_type": "markdown",
   "metadata": {},
   "source": [
    "# Import meteo data (API)"
   ]
  },
  {
   "cell_type": "code",
   "execution_count": 19,
   "metadata": {},
   "outputs": [],
   "source": [
    "with open(\"../config.json\") as config_file:\n",
    "    config = json.load(config_file)\n",
    "    api_key = config[\"meteo_api\"]\n",
    "\n",
    "api_url = \"https://api.dataplatform.knmi.nl/open-data/v1/datasets/Actuele10mindataKNMIstations/versions/2/files\"\n",
    "headers = {\"Authorization\": f\"Bearer {api_key}\"}"
   ]
  },
  {
   "cell_type": "code",
   "execution_count": 21,
   "metadata": {},
   "outputs": [
    {
     "name": "stdout",
     "output_type": "stream",
     "text": [
      "Available files: {'isTruncated': True, 'resultCount': 10, 'files': [{'filename': 'KMDS__OPER_P___10M_OBS_L2_202212102330.nc', 'size': 189489, 'created': '2022-12-11T00:05:59+00:00', 'lastModified': '2022-12-11T00:05:59+00:00'}, {'filename': 'KMDS__OPER_P___10M_OBS_L2_202212102340.nc', 'size': 189549, 'created': '2022-12-11T00:15:57+00:00', 'lastModified': '2022-12-11T00:15:57+00:00'}, {'filename': 'KMDS__OPER_P___10M_OBS_L2_202212102350.nc', 'size': 189506, 'created': '2022-12-11T00:27:47+00:00', 'lastModified': '2022-12-11T00:27:47+00:00'}, {'filename': 'KMDS__OPER_P___10M_OBS_L2_202212110000.nc', 'size': 189569, 'created': '2022-12-11T00:36:36+00:00', 'lastModified': '2022-12-11T00:36:36+00:00'}, {'filename': 'KMDS__OPER_P___10M_OBS_L2_202212110010.nc', 'size': 189492, 'created': '2022-12-11T00:46:21+00:00', 'lastModified': '2022-12-11T00:46:21+00:00'}, {'filename': 'KMDS__OPER_P___10M_OBS_L2_202212110020.nc', 'size': 189466, 'created': '2022-12-11T00:55:52+00:00', 'lastModified': '2022-12-11T00:55:52+00:00'}, {'filename': 'KMDS__OPER_P___10M_OBS_L2_202212110030.nc', 'size': 189553, 'created': '2022-12-11T01:05:47+00:00', 'lastModified': '2022-12-11T01:05:47+00:00'}, {'filename': 'KMDS__OPER_P___10M_OBS_L2_202212110040.nc', 'size': 189499, 'created': '2022-12-11T01:15:58+00:00', 'lastModified': '2022-12-11T01:15:58+00:00'}, {'filename': 'KMDS__OPER_P___10M_OBS_L2_202212110050.nc', 'size': 189505, 'created': '2022-12-11T01:25:48+00:00', 'lastModified': '2022-12-11T01:25:48+00:00'}, {'filename': 'KMDS__OPER_P___10M_OBS_L2_202212110100.nc', 'size': 189545, 'created': '2022-12-11T01:36:40+00:00', 'lastModified': '2022-12-11T01:36:40+00:00'}], 'maxResults': 10, 'startAfterFilename': '', 'nextPageToken': 'eyJmaWxlX25hbWUiOiAiS01EU19fT1BFUl9QX19fMTBNX09CU19MMl8yMDIyMTIxMTAxMDAubmMiLCAiaWQiOiAiQWN0dWVsZTEwbWluZGF0YUtOTUlzdGF0aW9uc18yX0tNRFNfX09QRVJfUF9fXzEwTV9PQlNfTDJfMjAyMjEyMTEwMTAwLm5jIn0='}\n"
     ]
    }
   ],
   "source": [
    "response = requests.get(api_url, headers=headers)\n",
    "if response.status_code == 200:\n",
    "    data = response.json()\n",
    "    print(\"Available files:\", data)\n",
    "else:\n",
    "    print(f\"Error fetching data: {response.status_code} - {response.text}\")"
   ]
  },
  {
   "cell_type": "code",
   "execution_count": null,
   "metadata": {},
   "outputs": [
    {
     "ename": "NameError",
     "evalue": "name 'all_files' is not defined",
     "output_type": "error",
     "traceback": [
      "\u001b[0;31m---------------------------------------------------------------------------\u001b[0m",
      "\u001b[0;31mNameError\u001b[0m                                 Traceback (most recent call last)",
      "Cell \u001b[0;32mIn[25], line 17\u001b[0m\n\u001b[1;32m     14\u001b[0m         \u001b[38;5;28mprint\u001b[39m(\u001b[38;5;124mf\u001b[39m\u001b[38;5;124m\"\u001b[39m\u001b[38;5;124mError fetching file URL: \u001b[39m\u001b[38;5;132;01m{\u001b[39;00mresponse\u001b[38;5;241m.\u001b[39mstatus_code\u001b[38;5;132;01m}\u001b[39;00m\u001b[38;5;124m - \u001b[39m\u001b[38;5;132;01m{\u001b[39;00mresponse\u001b[38;5;241m.\u001b[39mtext\u001b[38;5;132;01m}\u001b[39;00m\u001b[38;5;124m\"\u001b[39m)\n\u001b[1;32m     16\u001b[0m \u001b[38;5;66;03m# Example usage for the first file in the list\u001b[39;00m\n\u001b[0;32m---> 17\u001b[0m \u001b[38;5;28;01mif\u001b[39;00m \u001b[43mall_files\u001b[49m:\n\u001b[1;32m     18\u001b[0m     first_filename \u001b[38;5;241m=\u001b[39m all_files[\u001b[38;5;241m0\u001b[39m][\u001b[38;5;124m\"\u001b[39m\u001b[38;5;124mfilename\u001b[39m\u001b[38;5;124m\"\u001b[39m]\n\u001b[1;32m     19\u001b[0m     \u001b[38;5;28mprint\u001b[39m(\u001b[38;5;124mf\u001b[39m\u001b[38;5;124m\"\u001b[39m\u001b[38;5;124mDownloading file: \u001b[39m\u001b[38;5;132;01m{\u001b[39;00mfirst_filename\u001b[38;5;132;01m}\u001b[39;00m\u001b[38;5;124m\"\u001b[39m)\n",
      "\u001b[0;31mNameError\u001b[0m: name 'all_files' is not defined"
     ]
    }
   ],
   "source": [
    "def download_file(filename):\n",
    "    file_url = f\"https://api.dataplatform.knmi.nl/open-data/v1/datasets/Actuele10mindataKNMIstations/versions/2/files/{filename}/url\"\n",
    "    response = requests.get(file_url, headers=headers)\n",
    "\n",
    "    if response.status_code == 200:\n",
    "        download_url = response.json().get(\"temporaryDownloadUrl\")\n",
    "        if download_url:\n",
    "            file_data = requests.get(download_url)\n",
    "            local_filename = filename.replace(\"/\", \"_\")  # Sanitize filename\n",
    "            with open(local_filename, \"wb\") as file:\n",
    "                file.write(file_data.content)\n",
    "            print(f\"File {local_filename} downloaded successfully.\")\n",
    "    else:\n",
    "        print(f\"Error fetching file URL: {response.status_code} - {response.text}\")\n",
    "\n",
    "# Example usage for the first file in the list\n",
    "if all_files:\n",
    "    first_filename = all_files[0][\"filename\"]\n",
    "    print(f\"Downloading file: {first_filename}\")\n",
    "    download_file(first_filename)"
   ]
  },
  {
   "cell_type": "code",
   "execution_count": null,
   "metadata": {},
   "outputs": [],
   "source": []
  }
 ],
 "metadata": {
  "kernelspec": {
   "display_name": "uni_tilburg",
   "language": "python",
   "name": "python3"
  },
  "language_info": {
   "codemirror_mode": {
    "name": "ipython",
    "version": 3
   },
   "file_extension": ".py",
   "mimetype": "text/x-python",
   "name": "python",
   "nbconvert_exporter": "python",
   "pygments_lexer": "ipython3",
   "version": "3.11.5"
  }
 },
 "nbformat": 4,
 "nbformat_minor": 2
}
