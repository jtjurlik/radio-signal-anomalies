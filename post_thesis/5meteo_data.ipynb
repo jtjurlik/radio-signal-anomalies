{
 "cells": [
  {
   "cell_type": "code",
   "execution_count": 1,
   "metadata": {},
   "outputs": [],
   "source": [
    "import os\n",
    "import json\n",
    "import logging\n",
    "import sys\n",
    "\n",
    "import pandas as pd\n",
    "import numpy as np\n",
    "import matplotlib.pyplot as plt\n",
    "import seaborn as sns\n",
    "import requests\n",
    "import xarray as xr\n",
    "\n",
    "from scipy.spatial import KDTree\n",
    "import folium"
   ]
  },
  {
   "cell_type": "code",
   "execution_count": 2,
   "metadata": {},
   "outputs": [],
   "source": [
    "with open('../config.json', 'r') as config_file:\n",
    "    config = json.load(config_file)"
   ]
  },
  {
   "cell_type": "markdown",
   "metadata": {},
   "source": [
    "# BTS coords data"
   ]
  },
  {
   "cell_type": "code",
   "execution_count": 3,
   "metadata": {},
   "outputs": [
    {
     "name": "stdout",
     "output_type": "stream",
     "text": [
      "(484, 4)\n"
     ]
    },
    {
     "data": {
      "text/html": [
       "<div>\n",
       "<style scoped>\n",
       "    .dataframe tbody tr th:only-of-type {\n",
       "        vertical-align: middle;\n",
       "    }\n",
       "\n",
       "    .dataframe tbody tr th {\n",
       "        vertical-align: top;\n",
       "    }\n",
       "\n",
       "    .dataframe thead th {\n",
       "        text-align: right;\n",
       "    }\n",
       "</style>\n",
       "<table border=\"1\" class=\"dataframe\">\n",
       "  <thead>\n",
       "    <tr style=\"text-align: right;\">\n",
       "      <th></th>\n",
       "      <th>lat</th>\n",
       "      <th>lon</th>\n",
       "      <th>Height</th>\n",
       "      <th>Azimuth</th>\n",
       "    </tr>\n",
       "    <tr>\n",
       "      <th>cell</th>\n",
       "      <th></th>\n",
       "      <th></th>\n",
       "      <th></th>\n",
       "      <th></th>\n",
       "    </tr>\n",
       "  </thead>\n",
       "  <tbody>\n",
       "    <tr>\n",
       "      <th>322_0</th>\n",
       "      <td>51.93255</td>\n",
       "      <td>6.57633</td>\n",
       "      <td>28.3</td>\n",
       "      <td>80</td>\n",
       "    </tr>\n",
       "    <tr>\n",
       "      <th>322_1</th>\n",
       "      <td>51.93255</td>\n",
       "      <td>6.57633</td>\n",
       "      <td>28.3</td>\n",
       "      <td>190</td>\n",
       "    </tr>\n",
       "    <tr>\n",
       "      <th>322_2</th>\n",
       "      <td>51.93255</td>\n",
       "      <td>6.57633</td>\n",
       "      <td>28.3</td>\n",
       "      <td>320</td>\n",
       "    </tr>\n",
       "    <tr>\n",
       "      <th>168_0</th>\n",
       "      <td>52.63140</td>\n",
       "      <td>4.72566</td>\n",
       "      <td>30.5</td>\n",
       "      <td>60</td>\n",
       "    </tr>\n",
       "    <tr>\n",
       "      <th>168_1</th>\n",
       "      <td>52.63140</td>\n",
       "      <td>4.72566</td>\n",
       "      <td>30.5</td>\n",
       "      <td>180</td>\n",
       "    </tr>\n",
       "  </tbody>\n",
       "</table>\n",
       "</div>"
      ],
      "text/plain": [
       "            lat      lon  Height  Azimuth\n",
       "cell                                     \n",
       "322_0  51.93255  6.57633    28.3       80\n",
       "322_1  51.93255  6.57633    28.3      190\n",
       "322_2  51.93255  6.57633    28.3      320\n",
       "168_0  52.63140  4.72566    30.5       60\n",
       "168_1  52.63140  4.72566    30.5      180"
      ]
     },
     "execution_count": 3,
     "metadata": {},
     "output_type": "execute_result"
    }
   ],
   "source": [
    "importcols = ['cell', 'lat', 'lon', 'Height', 'Azimuth']\n",
    "bts = pd.read_csv(os.path.join(config['data_path'], 'spatial_vars_old.csv'), usecols=importcols, index_col='cell')\n",
    "print(bts.shape)\n",
    "bts.head()"
   ]
  },
  {
   "cell_type": "markdown",
   "metadata": {},
   "source": [
    "# Import meteo data (API)"
   ]
  },
  {
   "cell_type": "code",
   "execution_count": 4,
   "metadata": {},
   "outputs": [],
   "source": [
    "with open(\"../config.json\") as config_file:\n",
    "    config = json.load(config_file)\n",
    "    api_key = config[\"meteo_api\"]\n",
    "\n",
    "api_url = \"https://api.dataplatform.knmi.nl/open-data/v1/datasets/Actuele10mindataKNMIstations/versions/2/files\"\n",
    "headers = {\"Authorization\": f\"Bearer {api_key}\"}"
   ]
  },
  {
   "cell_type": "code",
   "execution_count": 5,
   "metadata": {},
   "outputs": [],
   "source": [
    "# Define date range\n",
    "start_date = \"2023-09-03T00:00:00+00:00\"\n",
    "end_date = \"2023-09-03T23:30:00+00:00\"\n",
    "params = {\"begin\": start_date, \"end\": end_date, \"orderBy\": \"created\"}\n",
    "\n",
    "# Set up logging\n",
    "logging.basicConfig(level=logging.INFO)\n",
    "logger = logging.getLogger(__name__)"
   ]
  },
  {
   "cell_type": "code",
   "execution_count": 6,
   "metadata": {},
   "outputs": [],
   "source": [
    "# Ensure the target directory exists\n",
    "save_dir = config['data_path']+\"/meteo_raw\"\n",
    "os.makedirs(save_dir, exist_ok=True)"
   ]
  },
  {
   "cell_type": "code",
   "execution_count": 7,
   "metadata": {},
   "outputs": [
    {
     "name": "stderr",
     "output_type": "stream",
     "text": [
      "INFO:__main__:Downloading: KMDS__OPER_P___10M_OBS_L2_202309030000.nc\n",
      "INFO:__main__:Saved: /Users/jakobtjurlik/Library/CloudStorage/OneDrive-Personal/Desktop/Study/MSc_Tilburg/MSc Thesis/code/radio-signal-anomalies/data/meteo_raw/KMDS__OPER_P___10M_OBS_L2_202309030000.nc\n",
      "INFO:__main__:Downloading: KMDS__OPER_P___10M_OBS_L2_202309030010.nc\n",
      "INFO:__main__:Saved: /Users/jakobtjurlik/Library/CloudStorage/OneDrive-Personal/Desktop/Study/MSc_Tilburg/MSc Thesis/code/radio-signal-anomalies/data/meteo_raw/KMDS__OPER_P___10M_OBS_L2_202309030010.nc\n",
      "INFO:__main__:Downloading: KMDS__OPER_P___10M_OBS_L2_202309030020.nc\n",
      "INFO:__main__:Saved: /Users/jakobtjurlik/Library/CloudStorage/OneDrive-Personal/Desktop/Study/MSc_Tilburg/MSc Thesis/code/radio-signal-anomalies/data/meteo_raw/KMDS__OPER_P___10M_OBS_L2_202309030020.nc\n",
      "INFO:__main__:Downloading: KMDS__OPER_P___10M_OBS_L2_202309030030.nc\n",
      "INFO:__main__:Saved: /Users/jakobtjurlik/Library/CloudStorage/OneDrive-Personal/Desktop/Study/MSc_Tilburg/MSc Thesis/code/radio-signal-anomalies/data/meteo_raw/KMDS__OPER_P___10M_OBS_L2_202309030030.nc\n",
      "INFO:__main__:Downloading: KMDS__OPER_P___10M_OBS_L2_202309030040.nc\n",
      "INFO:__main__:Saved: /Users/jakobtjurlik/Library/CloudStorage/OneDrive-Personal/Desktop/Study/MSc_Tilburg/MSc Thesis/code/radio-signal-anomalies/data/meteo_raw/KMDS__OPER_P___10M_OBS_L2_202309030040.nc\n"
     ]
    }
   ],
   "source": [
    "# Fetch files in the date range\n",
    "response = requests.get(api_url, headers=headers, params=params)\n",
    "response.raise_for_status()\n",
    "files = response.json().get(\"files\", [])\n",
    "\n",
    "if not files:\n",
    "    logger.info(\"No files found in the specified date range.\")\n",
    "    exit()\n",
    "\n",
    "# Download up to 10 files in the date range\n",
    "max_files_to_download = 5\n",
    "downloaded_files_count = 0\n",
    "\n",
    "for file_info in files:\n",
    "    if downloaded_files_count >= max_files_to_download:\n",
    "        break\n",
    "    filename = file_info[\"filename\"]\n",
    "    logger.info(f\"Downloading: {filename}\")\n",
    "\n",
    "    # Get the download URL\n",
    "    file_url = f\"{api_url}/{filename}/url\"\n",
    "    response = requests.get(file_url, headers=headers)\n",
    "    response.raise_for_status()\n",
    "    download_url = response.json().get(\"temporaryDownloadUrl\")\n",
    "\n",
    "    # Download and save file\n",
    "    local_path = os.path.join(save_dir, filename)\n",
    "    file_data = requests.get(download_url)\n",
    "    file_data.raise_for_status()\n",
    "\n",
    "    with open(local_path, \"wb\") as f:\n",
    "        f.write(file_data.content)\n",
    "\n",
    "    logger.info(f\"Saved: {local_path}\")\n",
    "\n",
    "    downloaded_files_count += 1"
   ]
  },
  {
   "cell_type": "code",
   "execution_count": 8,
   "metadata": {},
   "outputs": [
    {
     "name": "stdout",
     "output_type": "stream",
     "text": [
      "Found 7 NetCDF files.\n",
      "Opening file: KMDS__OPER_P___10M_OBS_L2_202309030010.nc\n",
      "<xarray.Dataset> Size: 65kB\n",
      "Dimensions:      (station: 69, time: 1)\n",
      "Coordinates:\n",
      "  * station      (station) <U5 1kB '06201' '06203' '06204' ... '78873' '78990'\n",
      "  * time         (time) datetime64[ns] 8B 2023-09-03T00:10:00\n",
      "Data variables: (12/103)\n",
      "    stationname  (station) <U36 10kB ...\n",
      "    lat          (station) float64 552B ...\n",
      "    lon          (station) float64 552B ...\n",
      "    height       (station) float64 552B ...\n",
      "    D1H          (station, time) float64 552B ...\n",
      "    dd           (station, time) float64 552B ...\n",
      "    ...           ...\n",
      "    zm           (station, time) float64 552B ...\n",
      "    iso_dataset  |S1 1B ...\n",
      "    product      |S1 1B ...\n",
      "    projection   |S1 1B ...\n",
      "    nhc          |S1 1B ...\n",
      "    za           |S1 1B ...\n",
      "Attributes:\n",
      "    featureType:  timeSeries\n",
      "    Conventions:  CF-1.4\n",
      "    title:        KMDS__OPER_P___10M_OBS_L2\n",
      "    institution:  Royal Netherlands Meteorological Institute (KNMI)\n",
      "    source:       Royal Netherlands Meteorological Institute (KNMI)\n",
      "    history:      File created from KNMI's Meteorological Data Distribution S...\n",
      "    references:   https://dataplatform.knmi.nl\n",
      "    comment:      \n"
     ]
    }
   ],
   "source": [
    "# List files in the directory\n",
    "nc_files = [f for f in os.listdir(save_dir) if f.endswith(\".nc\")]\n",
    "print(f\"Found {len(nc_files)} NetCDF files.\")\n",
    "\n",
    "# Open the first available file\n",
    "if nc_files:\n",
    "    file_name = nc_files[0]  # Extract the filename\n",
    "    file_path = os.path.join(save_dir, file_name)\n",
    "    print(f\"Opening file: {file_name}\")\n",
    "\n",
    "    # Open NetCDF file with xarray\n",
    "    dataset = xr.open_dataset(file_path)\n",
    "    print(dataset)\n",
    "else:\n",
    "    print(\"No NetCDF files found.\")"
   ]
  },
  {
   "cell_type": "markdown",
   "metadata": {},
   "source": [
    "# Matching meteo stations to BTS"
   ]
  },
  {
   "cell_type": "code",
   "execution_count": 9,
   "metadata": {},
   "outputs": [
    {
     "name": "stdout",
     "output_type": "stream",
     "text": [
      "Weather Station Data (head):\n",
      "  station_id      lat     lon  height\n",
      "0      06201  54.3256  2.9358   42.70\n",
      "1      06203  52.3600  3.3417   41.84\n",
      "2      06204  53.2694  3.6278   41.80\n",
      "3      06205  55.3992  3.8103   48.35\n",
      "4      06207  53.6144  4.9603   45.31\n"
     ]
    }
   ],
   "source": [
    "# Convert relevant weather station metadata to DataFrame\n",
    "weather_stations = pd.DataFrame({\n",
    "    \"station_id\": dataset[\"station\"].values,   # Station IDs\n",
    "    \"lat\": dataset[\"lat\"].values,              # Latitude\n",
    "    \"lon\": dataset[\"lon\"].values,              # Longitude\n",
    "    \"height\": dataset[\"height\"].values         # Height above sea level\n",
    "})\n",
    "\n",
    "# Display the first few rows\n",
    "print(\"Weather Station Data (head):\")\n",
    "print(weather_stations.head())"
   ]
  },
  {
   "cell_type": "code",
   "execution_count": 10,
   "metadata": {},
   "outputs": [
    {
     "name": "stdout",
     "output_type": "stream",
     "text": [
      "BTS Cell Data with Matched Weather Station:\n",
      "            lat      lon  Height  Azimuth nearest_station  station_lat  \\\n",
      "cell                                                                     \n",
      "322_0  51.93255  6.57633    28.3       80           06283      52.0678   \n",
      "322_1  51.93255  6.57633    28.3      190           06283      52.0678   \n",
      "322_2  51.93255  6.57633    28.3      320           06283      52.0678   \n",
      "168_0  52.63140  4.72566    30.5       60           06233      52.4819   \n",
      "168_1  52.63140  4.72566    30.5      180           06233      52.4819   \n",
      "\n",
      "       station_lon  station_height  distance_km  \n",
      "cell                                             \n",
      "322_0       6.6567           29.07    17.463337  \n",
      "322_1       6.6567           29.07    17.463337  \n",
      "322_2       6.6567           29.07    17.463337  \n",
      "168_0       4.7258           -1.60    16.594507  \n",
      "168_1       4.7258           -1.60    16.594507  \n"
     ]
    }
   ],
   "source": [
    "# Build KDTree for weather stations\n",
    "weather_tree = KDTree(weather_stations[[\"lat\", \"lon\"]].values)\n",
    "\n",
    "# Find the nearest weather station for each BTS cell\n",
    "distances, nearest_idx = weather_tree.query(bts[[\"lat\", \"lon\"]].values)\n",
    "\n",
    "# Add matched weather station info to BTS DataFrame\n",
    "bts[\"nearest_station\"] = weather_stations.iloc[nearest_idx][\"station_id\"].values\n",
    "bts[\"station_lat\"] = weather_stations.iloc[nearest_idx][\"lat\"].values\n",
    "bts[\"station_lon\"] = weather_stations.iloc[nearest_idx][\"lon\"].values\n",
    "bts[\"station_height\"] = weather_stations.iloc[nearest_idx][\"height\"].values\n",
    "bts[\"distance_km\"] = distances * 111  # Convert degrees to ~km\n",
    "\n",
    "# Display results\n",
    "print(\"BTS Cell Data with Matched Weather Station:\")\n",
    "print(bts.head())"
   ]
  },
  {
   "cell_type": "markdown",
   "metadata": {},
   "source": [
    "## Check result"
   ]
  },
  {
   "cell_type": "code",
   "execution_count": null,
   "metadata": {},
   "outputs": [],
   "source": [
    "# Define the center of the map (Netherlands approx center)\n",
    "map_center = [52.2, 5.5]\n",
    "m = folium.Map(location=map_center, zoom_start=8)\n",
    "\n",
    "# Add BTS Cells to the map (Blue)\n",
    "for _, row in bts.iterrows():\n",
    "    folium.CircleMarker(\n",
    "        location=[row[\"lat\"], row[\"lon\"]],\n",
    "        radius=3,\n",
    "        color=\"blue\",\n",
    "        fill=True,\n",
    "        fill_color=\"blue\",\n",
    "        fill_opacity=0.7,\n",
    "        popup=f\"BTS Cell {row.name}\",\n",
    "    ).add_to(m)\n",
    "\n",
    "# Add Weather Stations to the map (Red)\n",
    "for _, row in weather_stations.iterrows():\n",
    "    folium.CircleMarker(\n",
    "        location=[row[\"lat\"], row[\"lon\"]],\n",
    "        radius=5,\n",
    "        color=\"red\",\n",
    "        fill=True,\n",
    "        fill_color=\"red\",\n",
    "        fill_opacity=0.7,\n",
    "        popup=f\"Weather Station {row['station_id']}\",\n",
    "    ).add_to(m)\n",
    "\n",
    "# Save as an interactive HTML file\n",
    "output_path = os.path.join(config[\"data_path\"], \"bts_weather_map.html\")\n",
    "m.save(output_path)"
   ]
  },
  {
   "cell_type": "code",
   "execution_count": 20,
   "metadata": {},
   "outputs": [
    {
     "name": "stdout",
     "output_type": "stream",
     "text": [
      "Total BTS Cells: 484\n",
      "Total Weather Station IDs: 69\n",
      "Total Matched Weather Stations: 37\n"
     ]
    }
   ],
   "source": [
    "# Print the total number of unique BTS cells\n",
    "total_unique_bts_cells = bts.index.nunique()\n",
    "print(\"Total BTS Cells:\", total_unique_bts_cells)\n",
    "\n",
    "# Print the total number of unique weather station IDs\n",
    "total_unique_station_ids = weather_stations[\"station_id\"].nunique()\n",
    "print(\"Total Weather Station IDs:\", total_unique_station_ids)\n",
    "\n",
    "# Check if all weather stations are matched\n",
    "unique_matched_stations = bts[\"nearest_station\"].nunique()\n",
    "all_stations_matched = unique_matched_stations == total_unique_station_ids\n",
    "print(\"Total Matched Weather Stations:\", unique_matched_stations)"
   ]
  },
  {
   "cell_type": "markdown",
   "metadata": {},
   "source": [
    "## Export"
   ]
  },
  {
   "cell_type": "code",
   "execution_count": 16,
   "metadata": {},
   "outputs": [],
   "source": [
    "output_csv_path = os.path.join(config['data_path'], 'spatial_new.csv')\n",
    "bts.to_csv(output_csv_path)"
   ]
  }
 ],
 "metadata": {
  "kernelspec": {
   "display_name": "uni_tilburg",
   "language": "python",
   "name": "python3"
  },
  "language_info": {
   "codemirror_mode": {
    "name": "ipython",
    "version": 3
   },
   "file_extension": ".py",
   "mimetype": "text/x-python",
   "name": "python",
   "nbconvert_exporter": "python",
   "pygments_lexer": "ipython3",
   "version": "3.11.5"
  }
 },
 "nbformat": 4,
 "nbformat_minor": 2
}
